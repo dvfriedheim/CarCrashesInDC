{
  "nbformat": 4,
  "nbformat_minor": 0,
  "metadata": {
    "colab": {
      "provenance": [],
      "include_colab_link": true
    },
    "kernelspec": {
      "name": "python3",
      "display_name": "Python 3"
    },
    "language_info": {
      "name": "python"
    }
  },
  "cells": [
    {
      "cell_type": "markdown",
      "metadata": {
        "id": "view-in-github",
        "colab_type": "text"
      },
      "source": [
        "<a href=\"https://colab.research.google.com/github/dvfriedheim/CarCrashesInDC/blob/master/Basic_Neural_Network_Blank.ipynb\" target=\"_parent\"><img src=\"https://colab.research.google.com/assets/colab-badge.svg\" alt=\"Open In Colab\"/></a>"
      ]
    },
    {
      "cell_type": "code",
      "execution_count": 1,
      "metadata": {
        "id": "M4c2aRvgtzzJ"
      },
      "outputs": [],
      "source": [
        "\n",
        "\n",
        "import random\n",
        "import math\n",
        "\n"
      ]
    },
    {
      "cell_type": "code",
      "source": [
        "def dot(v,w):\n",
        "  return sum(v_i * w_i for v_i, w_i, in zip(v,w))"
      ],
      "metadata": {
        "id": "QF1SL7cThVpC"
      },
      "execution_count": 2,
      "outputs": []
    },
    {
      "cell_type": "code",
      "source": [
        "def step_funtion(x):\n",
        "  return 1 if x >=0 else 0"
      ],
      "metadata": {
        "id": "zK_D5ZeehpXC"
      },
      "execution_count": 3,
      "outputs": []
    },
    {
      "cell_type": "code",
      "source": [
        "def perceptron_output(weights, bias, x):\n",
        "  return step_function(dot(weights, x) + bias)"
      ],
      "metadata": {
        "id": "erlnxe0ahyyE"
      },
      "execution_count": 4,
      "outputs": []
    },
    {
      "cell_type": "code",
      "source": [
        "def sigmoid(t):\n",
        "  return 1/(1+math.exp(t))"
      ],
      "metadata": {
        "id": "leyGvERpiBdt"
      },
      "execution_count": 5,
      "outputs": []
    },
    {
      "cell_type": "code",
      "source": [
        "def neuron_output(weights, inputs):\n",
        "  return sigmoid(dot(weights, inputs))"
      ],
      "metadata": {
        "id": "bHSxpxJBiN0o"
      },
      "execution_count": 6,
      "outputs": []
    },
    {
      "cell_type": "code",
      "source": [
        "def feed_forward(neural_network, input_vector):\n",
        "  outputs = []\n",
        "  for layer in neural_network:\n",
        "    insput_with_bias = input_vector + [1]\n",
        "    output = [neuron_output(neuron, input_with_bias) for neuron in layer]\n",
        "    outputs.append(output)\n",
        "    input_vector = output\n",
        "  return outputs"
      ],
      "metadata": {
        "id": "i11Kat6qiiWi"
      },
      "execution_count": 7,
      "outputs": []
    },
    {
      "cell_type": "code",
      "source": [
        "def backpropagate(network, input_vector, target):\n",
        "  hidden_outputs, outputs = feed_forward(network, input_network)\n",
        "  output_delta = [outputs * (1-output) * (output - target[i]) for i, output in enumerate(outputs)]\n",
        "\n",
        "  for i, output_Neuron in enumerate(network[-1]):\n",
        "    for j, hidden_output in enumerate(hidden_outputs + [1]):\n",
        "      output_neuron[j] -= output_deltas[i] * hidden_output\n",
        "\n",
        "  hidden_deltas = [hidden_output * (1-hidden_output) * dot(output_deltas, [n[i] for n in network[-1]]) for i, hidden_output in enumerate(hiddenoutputs)]\n",
        "\n",
        "  for i, hidden_neuron in enumerate(network[0]):\n",
        "    for j, input in enumerate(input_vector + [1]):\n",
        "      hidden_neuron[j] -= hidden_deltas[i] * input\n"
      ],
      "metadata": {
        "id": "UVReUYVSjNyg"
      },
      "execution_count": 8,
      "outputs": []
    },
    {
      "cell_type": "code",
      "source": [
        "#each number is represented by a vector of length 25\n",
        "zero = [1,1,1,1,1,\n",
        "        1,0,0,0,1,\n",
        "        1,0,0,0,1,\n",
        "        1,0,0,0,1,\n",
        "        1,1,1,1,1]\n",
        "\n",
        "one =  [0,0,1,0,0,\n",
        "        0,0,1,0,0,\n",
        "        0,0,1,0,0,\n",
        "        0,0,1,0,0,\n",
        "        0,0,1,0,0]\n",
        "\n",
        "two =  [1,1,1,1,1,\n",
        "        0,0,0,0,1,\n",
        "        1,1,1,1,1,\n",
        "        1,0,0,0,0,\n",
        "        1,1,1,1,1]\n",
        "\n",
        "three =[1,1,1,1,1,\n",
        "        0,0,0,0,1,\n",
        "        1,1,1,1,1,\n",
        "        0,0,0,0,1,\n",
        "        1,1,1,1,1]\n",
        "\n",
        "four = [1,0,0,0,1,\n",
        "        1,0,0,0,1,\n",
        "        1,1,1,1,1,\n",
        "        0,0,0,0,1,\n",
        "        0,0,0,0,1]\n",
        "\n",
        "five = [1,1,1,1,1,\n",
        "        1,0,0,0,0,\n",
        "        1,1,1,1,1,\n",
        "        0,0,0,0,1,\n",
        "        1,1,1,1,1]\n",
        "\n",
        "six =  [1,1,1,1,1,\n",
        "        1,0,0,0,0,\n",
        "        1,1,1,1,1,\n",
        "        1,0,0,0,1,\n",
        "        1,1,1,1,1]\n",
        "\n",
        "seven= [1,1,1,1,1,\n",
        "        0,0,0,0,1,\n",
        "        0,0,0,0,1,\n",
        "        0,0,0,0,1,\n",
        "        0,0,0,0,1]\n",
        "\n",
        "eight =[1,1,1,1,1,\n",
        "        1,0,0,0,1,\n",
        "        1,1,1,1,1,\n",
        "        1,0,0,0,1,\n",
        "        1,1,1,1,1]\n",
        "\n",
        "nine = [1,1,1,1,1,\n",
        "        1,0,0,0,1,\n",
        "        1,1,1,1,1,\n",
        "        0,0,0,0,1,\n",
        "        1,1,1,1,1]\n",
        "\n",
        "inputs =[zero,one,two,three,four,five,six,seven,eight,nine]"
      ],
      "metadata": {
        "id": "E2MSNPmcu5HH"
      },
      "execution_count": 9,
      "outputs": []
    }
  ]
}